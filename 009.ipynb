{
 "cells": [
  {
   "cell_type": "markdown",
   "id": "86018b09-e6a4-4baf-b5b8-e0546d9f755f",
   "metadata": {},
   "source": [
    "# PR6 자료구조 - 이제희"
   ]
  },
  {
   "cell_type": "code",
   "execution_count": 1,
   "id": "a10ae56d-bdc7-4a25-9058-ed476dd2c794",
   "metadata": {},
   "outputs": [
    {
     "name": "stdout",
     "output_type": "stream",
     "text": [
      "git version 2.34.1\n"
     ]
    }
   ],
   "source": [
    "!git --version"
   ]
  },
  {
   "cell_type": "code",
   "execution_count": 4,
   "id": "3c8f90ac-06a4-46f7-bfaf-3a354122021d",
   "metadata": {},
   "outputs": [
    {
     "name": "stdout",
     "output_type": "stream",
     "text": [
      "Reinitialized existing Git repository in /home/j1002y/.git/\n"
     ]
    }
   ],
   "source": [
    "!git init"
   ]
  },
  {
   "cell_type": "code",
   "execution_count": 6,
   "id": "04d4eb76-86da-44ca-8f75-6ab89532a675",
   "metadata": {},
   "outputs": [],
   "source": [
    "!git config --global  user.name \"tonnynet\""
   ]
  },
  {
   "cell_type": "code",
   "execution_count": 5,
   "id": "6ea3e21b-878e-45d7-a006-5b1a93bd8124",
   "metadata": {},
   "outputs": [],
   "source": [
    "!git config --global user.email \"help@tonny.net\""
   ]
  },
  {
   "cell_type": "code",
   "execution_count": 7,
   "id": "4b29fc21-ce7b-45bb-a362-4ec68a4e2127",
   "metadata": {},
   "outputs": [
    {
     "name": "stdout",
     "output_type": "stream",
     "text": [
      "On branch master\n",
      "\n",
      "No commits yet\n",
      "\n",
      "Untracked files:\n",
      "  (use \"git add <file>...\" to include in what will be committed)\n",
      "\t\u001b[31m.cache/\u001b[m\n",
      "\t\u001b[31m.gitconfig\u001b[m\n",
      "\t\u001b[31m.ipynb_checkpoints/\u001b[m\n",
      "\t\u001b[31m.ipython/\u001b[m\n",
      "\t\u001b[31m.jupyter/\u001b[m\n",
      "\t\u001b[31m.local/\u001b[m\n",
      "\t\u001b[31m.npm/\u001b[m\n",
      "\t\u001b[31m.ssh/\u001b[m\n",
      "\t\u001b[31mchap1-3.ipynb\u001b[m\n",
      "\t\u001b[31m\"pr2_\\354\\235\\264\\354\\240\\234\\355\\235\\254-Copy1.ipynb\"\u001b[m\n",
      "\t\u001b[31m\"pr2_\\354\\235\\264\\354\\240\\234\\355\\235\\254.ipynb\"\u001b[m\n",
      "\t\u001b[31m\"pr3_\\341\\204\\213\\341\\205\\265\\341\\204\\214\\341\\205\\246\\341\\204\\222\\341\\205\\264.ipynb\"\u001b[m\n",
      "\t\u001b[31m\"pr4_\\341\\204\\213\\341\\205\\265\\341\\204\\214\\341\\205\\246\\341\\204\\222\\341\\205\\264.ipynb\"\u001b[m\n",
      "\t\u001b[31m\"pr5_\\341\\204\\213\\341\\205\\265\\341\\204\\214\\341\\205\\246\\341\\204\\222\\341\\205\\264.ipynb\"\u001b[m\n",
      "\t\u001b[31m\"pr6_\\341\\204\\213\\341\\205\\265\\341\\204\\214\\341\\205\\246\\341\\204\\222\\341\\205\\264.ipynb\"\u001b[m\n",
      "\t\u001b[31m\"pr7_\\341\\204\\213\\341\\205\\265\\341\\204\\214\\341\\205\\246\\341\\204\\222\\341\\205\\264.ipynb\"\u001b[m\n",
      "\t\u001b[31muntitled.txt\u001b[m\n",
      "\t\u001b[31muntitled1.ipynb\u001b[m\n",
      "\n",
      "nothing added to commit but untracked files present (use \"git add\" to track)\n"
     ]
    }
   ],
   "source": [
    "!git status"
   ]
  },
  {
   "cell_type": "code",
   "execution_count": 8,
   "id": "2bdb552d-5fc6-438a-9024-84c3d8da8de3",
   "metadata": {},
   "outputs": [],
   "source": [
    "!git remote add origin \"https://github.com/tonnynet/ajou-.git\""
   ]
  },
  {
   "cell_type": "code",
   "execution_count": 9,
   "id": "21a98c79-70ef-45d0-bb86-057e4be7338d",
   "metadata": {},
   "outputs": [],
   "source": [
    "!git branch -m master main"
   ]
  },
  {
   "cell_type": "code",
   "execution_count": 10,
   "id": "cc2904d9-2469-4bd1-814f-6ed2479fa449",
   "metadata": {
    "jupyter": {
     "source_hidden": true
    }
   },
   "outputs": [
    {
     "name": "stdout",
     "output_type": "stream",
     "text": [
      "remote: Enumerating objects: 3, done.\u001b[K\n",
      "remote: Counting objects: 100% (3/3), done.\u001b[K\n",
      "remote: Total 3 (delta 0), reused 0 (delta 0), pack-reused 0 (from 0)\u001b[K\n",
      "Unpacking objects: 100% (3/3), 850 bytes | 121.00 KiB/s, done.\n",
      "From https://github.com/tonnynet/ajou-\n",
      " * branch            main       -> FETCH_HEAD\n",
      " * [new branch]      main       -> origin/main\n"
     ]
    }
   ],
   "source": [
    "!git pull origin main"
   ]
  },
  {
   "cell_type": "code",
   "execution_count": 12,
   "id": "c450156b-955d-4bdc-95b7-4c88f3347e93",
   "metadata": {},
   "outputs": [
    {
     "name": "stdout",
     "output_type": "stream",
     "text": [
      "fatal: pathspec 'pr5_이제희.ipynb' did not match any files\n"
     ]
    }
   ],
   "source": [
    "!git add pr5_이제희.ipynb"
   ]
  },
  {
   "cell_type": "code",
   "execution_count": 2,
   "id": "9bcefb75-34eb-485f-936c-6bf8dbf9c3d9",
   "metadata": {},
   "outputs": [
    {
     "name": "stdout",
     "output_type": "stream",
     "text": [
      "[1, 2, 3, 4, 5, 10, 20]\n",
      "[1, 2, 3, 4, 5, 10]\n",
      "[1, 2, 3, 4, 5]\n",
      "[1, 2, 3, 4]\n",
      "[2, 3, 4]\n"
     ]
    }
   ],
   "source": [
    "a=[1,2,3,4,5]\n",
    "a.append(10)\n",
    "a.append(20)\n",
    "print(a)\n",
    "a.pop()\n",
    "print(a)\n",
    "a.pop()\n",
    "print(a)\n",
    "a.pop()\n",
    "print(a)\n",
    "a.pop(0)\n",
    "print(a)"
   ]
  },
  {
   "cell_type": "markdown",
   "id": "74348a02-f286-4d1e-93db-ce756c87f624",
   "metadata": {},
   "source": [
    "### 튜플과 세트 : 데이터를 변경할 수 없는 자료구조, 읽기 전용\n"
   ]
  },
  {
   "cell_type": "code",
   "execution_count": 5,
   "id": "cf480780-41c2-4327-a82f-037d313e4e26",
   "metadata": {},
   "outputs": [
    {
     "name": "stdout",
     "output_type": "stream",
     "text": [
      "1 1\n",
      "1 10\n"
     ]
    },
    {
     "ename": "TypeError",
     "evalue": "'tuple' object does not support item assignment",
     "output_type": "error",
     "traceback": [
      "\u001b[0;31m---------------------------------------------------------------------------\u001b[0m",
      "\u001b[0;31mTypeError\u001b[0m                                 Traceback (most recent call last)",
      "Cell \u001b[0;32mIn[5], line 9\u001b[0m\n\u001b[1;32m      7\u001b[0m a[\u001b[38;5;241m0\u001b[39m]\u001b[38;5;241m=\u001b[39m\u001b[38;5;241m10\u001b[39m\n\u001b[1;32m      8\u001b[0m \u001b[38;5;28mprint\u001b[39m(t[\u001b[38;5;241m0\u001b[39m], a[\u001b[38;5;241m0\u001b[39m])\n\u001b[0;32m----> 9\u001b[0m \u001b[43mt\u001b[49m\u001b[43m[\u001b[49m\u001b[38;5;241;43m0\u001b[39;49m\u001b[43m]\u001b[49m\u001b[38;5;241m=\u001b[39m\u001b[38;5;241m10\u001b[39m\n",
      "\u001b[0;31mTypeError\u001b[0m: 'tuple' object does not support item assignment"
     ]
    }
   ],
   "source": [
    "## tuple\n",
    "\n",
    "t=(1,2,3)\n",
    "a=[1,2,3]\n",
    "\n",
    "print(t[0],a[0])\n",
    "a[0]=10\n",
    "print(t[0], a[0])\n",
    "t[0]=10"
   ]
  },
  {
   "cell_type": "markdown",
   "id": "21617bea-77f9-4aac-bd47-28deab92995b",
   "metadata": {},
   "source": [
    "### 세트 : 중복을 제거하는 함수, 삭제나 변경이 가능"
   ]
  },
  {
   "cell_type": "code",
   "execution_count": 7,
   "id": "76724568-14e4-4659-ad6b-596f061b84cd",
   "metadata": {},
   "outputs": [
    {
     "name": "stdout",
     "output_type": "stream",
     "text": [
      "{1, 2, 3, 5}\n",
      "{1, 2, 3, 5}\n",
      "{1, 2, 3, 4, 5}\n",
      "{1, 2, 3, 4, 5, 7, 8}\n",
      "{1, 3, 4, 5, 7, 8}\n",
      "{1, 4, 5, 7, 8}\n",
      "set()\n"
     ]
    }
   ],
   "source": [
    "s=set([1,2,3,1,2,1,2,5])\n",
    "print(s)\n",
    "s.add(2)\n",
    "print(s)\n",
    "s.add(4)\n",
    "print(s)\n",
    "s.update([1,3,7,8])\n",
    "print(s)\n",
    "s.remove(2)\n",
    "print(s)\n",
    "s.discard(3)\n",
    "print(s)\n",
    "s.clear()\n",
    "print(s)"
   ]
  },
  {
   "cell_type": "code",
   "execution_count": 8,
   "id": "c518cb99-5097-40c0-b600-1076a236da73",
   "metadata": {},
   "outputs": [
    {
     "name": "stdout",
     "output_type": "stream",
     "text": [
      "{3, 4, 5}\n",
      "{3, 4, 5}\n",
      "{1, 2, 3, 4, 5, 6, 7}\n",
      "{1, 2, 3, 4, 5, 6, 7}\n",
      "{1, 2}\n",
      "{1, 2}\n"
     ]
    }
   ],
   "source": [
    "s1=set([1,2,3,4,5])\n",
    "s2=set([3,4,5,6,7])\n",
    "print(s1&s2)\n",
    "print(s1.intersection(s2))\n",
    "print(s1|s2)\n",
    "print(s1.union(s2))\n",
    "print(s1-s2)\n",
    "print(s1.difference(s2))"
   ]
  },
  {
   "cell_type": "markdown",
   "id": "c4548af2-7ff0-4d31-9e89-eee74884ec1d",
   "metadata": {},
   "source": [
    "### 딕셔너리 : 키와 값의 쌍으로 구성된다"
   ]
  },
  {
   "cell_type": "code",
   "execution_count": 12,
   "id": "f4587491-8c03-446d-bed3-aea0a544b50d",
   "metadata": {},
   "outputs": [
    {
     "name": "stdout",
     "output_type": "stream",
     "text": [
      "{'America': 1, 'Korea': 82, 'China': 86, 'Japan': 81, 'Germany': 49}\n",
      "dict_keys(['America', 'Korea', 'China', 'Japan', 'Germany'])\n",
      "dict_values([1, 82, 86, 81, 49])\n",
      "dict_items([('America', 1), ('Korea', 82), ('China', 86), ('Japan', 81), ('Germany', 49)])\n"
     ]
    }
   ],
   "source": [
    "country_code={\"America\":1,\"Korea\":82,\"China\":86,\"Japan\":81,\"Germany\":49}\n",
    "print(country_code)\n",
    "print(country_code.keys())\n",
    "print(country_code.values())\n",
    "print(country_code.items())"
   ]
  },
  {
   "cell_type": "code",
   "execution_count": 19,
   "id": "ed57b493-b5d4-48f1-9087-d18259aac8c2",
   "metadata": {},
   "outputs": [
    {
     "name": "stdout",
     "output_type": "stream",
     "text": [
      "1\n",
      "82\n"
     ]
    }
   ],
   "source": [
    "print(country_code[\"America\"])\n",
    "print(country_code.get(\"Korea\"))"
   ]
  },
  {
   "cell_type": "code",
   "execution_count": 14,
   "id": "f398fa19-88d3-480c-a2a5-cb1457bb286b",
   "metadata": {},
   "outputs": [
    {
     "name": "stdout",
     "output_type": "stream",
     "text": [
      "America 1\n",
      "Korea 82\n",
      "China 86\n",
      "Japan 81\n",
      "Germany 49\n"
     ]
    }
   ],
   "source": [
    "for k,v in country_code.items():\n",
    "    print(k,v)"
   ]
  },
  {
   "cell_type": "code",
   "execution_count": 20,
   "id": "d9c39536-e8be-4c99-96b4-99886dbcdad2",
   "metadata": {},
   "outputs": [
    {
     "name": "stdin",
     "output_type": "stream",
     "text": [
      "당신의 MBTI 유형을 입력하세요 (예: INFP):  entp\n"
     ]
    },
    {
     "name": "stdout",
     "output_type": "stream",
     "text": [
      "\n",
      "[ENTP] 유형에게 어울리는 직업은 다음과 같습니다:\n",
      "👉 스타트업 창업가, 마케터, 발명가\n"
     ]
    }
   ],
   "source": [
    "mbti_jobs = {\n",
    "    \"INTJ\": \"전략 컨설턴트, 데이터 과학자, 시스템 설계자\",\n",
    "    \"INTP\": \"연구원, 프로그래머, 이론 물리학자\",\n",
    "    \"ENTJ\": \"경영자, 프로젝트 매니저, 투자 분석가\",\n",
    "    \"ENTP\": \"스타트업 창업가, 마케터, 발명가\",\n",
    "    \"INFJ\": \"심리상담사, 작가, 사회운동가\",\n",
    "    \"INFP\": \"예술가, 작사가, 인권 활동가\",\n",
    "    \"ENFJ\": \"교사, HR 매니저, 커뮤니케이션 디렉터\",\n",
    "    \"ENFP\": \"기획자, 광고 크리에이터, 여행 작가\",\n",
    "    \"ISTJ\": \"회계사, 관리자, 공무원\",\n",
    "    \"ISFJ\": \"간호사, 사회복지사, 사서\",\n",
    "    \"ESTJ\": \"군인, 기업 관리자, 품질 관리자\",\n",
    "    \"ESFJ\": \"교사, 이벤트 플래너, 고객 서비스 매니저\",\n",
    "    \"ISTP\": \"기계 엔지니어, 파일럿, 정비사\",\n",
    "    \"ISFP\": \"패션 디자이너, 사진작가, 플로리스트\",\n",
    "    \"ESTP\": \"영업 전문가, 응급 구조사, 스포츠 코치\",\n",
    "    \"ESFP\": \"연예인, 여행 가이드, 쇼호스트\"\n",
    "}\n",
    "\n",
    "mbti = input(\"당신의 MBTI 유형을 입력하세요 (예: INFP): \").upper()\n",
    "\n",
    "job = mbti_jobs.get(mbti)\n",
    "\n",
    "if job:\n",
    "    print(f\"\\n[{mbti}] 유형에게 어울리는 직업은 다음과 같습니다:\\n👉 {job}\")\n",
    "else:\n",
    "    print(\"죄송해요. 해당 MBTI 유형은 데이터에 없어요. 🥲\")"
   ]
  },
  {
   "cell_type": "code",
   "execution_count": 25,
   "id": "3634c64c-de5b-4e6c-b350-3ea4826c319f",
   "metadata": {},
   "outputs": [
    {
     "name": "stdout",
     "output_type": "stream",
     "text": [
      "redbluegreenpurple\n",
      "red,blue,green,purple\n",
      "red blue green purple\n"
     ]
    }
   ],
   "source": [
    "colors=['red','blue','green','purple']\n",
    "result=''.join(colors)\n",
    "print(result)\n",
    "result2=','.join(colors)\n",
    "print(result2)\n",
    "result3=' '.join(colors)\n",
    "print(result3)"
   ]
  },
  {
   "cell_type": "code",
   "execution_count": 26,
   "id": "d541005a-42d1-45d9-97da-a6a96eebee14",
   "metadata": {},
   "outputs": [
    {
     "name": "stdout",
     "output_type": "stream",
     "text": [
      "['Trump', 'administration', 'concedes', 'father', 'from', 'El', 'Salvador', 'was', 'mistakenly', 'deported', 'and', 'sent', 'to', 'mega', 'prison']\n"
     ]
    }
   ],
   "source": [
    "items='Trump administration concedes father from El Salvador was mistakenly deported and sent to mega prison'.split()\n",
    "print(items)"
   ]
  },
  {
   "cell_type": "code",
   "execution_count": 29,
   "id": "dcacbd71-e325-4bb1-bcce-45de444cccc5",
   "metadata": {},
   "outputs": [
    {
     "name": "stdout",
     "output_type": "stream",
     "text": [
      "['a', 'b', 'c', 'd']\n",
      "['www', 'naver', 'com']\n",
      "naver\n"
     ]
    }
   ],
   "source": [
    "ex1=\"a,b,c,d\"\n",
    "r1=ex1.split(\",\")\n",
    "print(r1)\n",
    "ex2=\"www.naver.com\"\n",
    "r2=ex2.split(\".\")\n",
    "print(r2)\n",
    "subdomain,domain,tld=r2\n",
    "print(domain)"
   ]
  },
  {
   "cell_type": "code",
   "execution_count": 39,
   "id": "a9474dee-1780-46f0-9093-fe1b05411e08",
   "metadata": {},
   "outputs": [
    {
     "name": "stdout",
     "output_type": "stream",
     "text": [
      "[4400.0, 2200.0, 3300.0000000000005, 5500.0, 6600.000000000001]\n",
      "[4400.0, 2200.0, 3300.0, 5500.0, 6600.0]\n"
     ]
    }
   ],
   "source": [
    "wages=[4000,2000,3000,5000,6000]\n",
    "r_wages=[i*1.1 for i in wages]   ## 파이썬이 아주 좋아한다.\n",
    "print(r_wages)\n",
    "r_wages2 = [round(i * 1.1, 2) for i in wages] ## 소수점 계산의 오차로 인해 약간 긴 소수점이 나타날 수 있습니다. 이를 간단히 보기 좋게 만들고 싶다면 round() 함수를 사용할 수 있어요:\n",
    "print(r_wages2)"
   ]
  },
  {
   "cell_type": "code",
   "execution_count": 35,
   "id": "7e68e4fb-ead8-4640-8596-5b03c3b42412",
   "metadata": {},
   "outputs": [
    {
     "name": "stdout",
     "output_type": "stream",
     "text": [
      "[4400.0, 2200.0, 3300.0000000000005, 5500.0, 6600.000000000001]\n"
     ]
    }
   ],
   "source": [
    "wages=[4000,2000,3000,5000,6000]\n",
    "r_wages=[]\n",
    "for i in wages:\n",
    "    r_wages.append(i*1.1)\n",
    "print(r_wages)"
   ]
  },
  {
   "cell_type": "code",
   "execution_count": null,
   "id": "26980d7c-2977-4a18-8a23-52395896dd11",
   "metadata": {},
   "outputs": [],
   "source": []
  }
 ],
 "metadata": {
  "kernelspec": {
   "display_name": "Python 3 (ipykernel)",
   "language": "python",
   "name": "python3"
  },
  "language_info": {
   "codemirror_mode": {
    "name": "ipython",
    "version": 3
   },
   "file_extension": ".py",
   "mimetype": "text/x-python",
   "name": "python",
   "nbconvert_exporter": "python",
   "pygments_lexer": "ipython3",
   "version": "3.11.6"
  }
 },
 "nbformat": 4,
 "nbformat_minor": 5
}
